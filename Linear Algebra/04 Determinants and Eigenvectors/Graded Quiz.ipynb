{
 "cells": [
  {
   "cell_type": "code",
   "execution_count": 18,
   "metadata": {},
   "outputs": [],
   "source": [
    "import numpy as np\n",
    "import sympy as sp"
   ]
  },
  {
   "cell_type": "code",
   "execution_count": 10,
   "metadata": {},
   "outputs": [
    {
     "data": {
      "text/plain": [
       "(array([[ 1],\n",
       "        [ 3],\n",
       "        [-4]]),\n",
       " array([[ 2],\n",
       "        [-1],\n",
       "        [-3]]),\n",
       " array([[  4],\n",
       "        [  5],\n",
       "        [-11]]),\n",
       " array([[  1,   2,   4],\n",
       "        [  3,  -1,   5],\n",
       "        [ -4,  -3, -11]]))"
      ]
     },
     "execution_count": 10,
     "metadata": {},
     "output_type": "execute_result"
    }
   ],
   "source": [
    "# vectors\n",
    "v1 = np.array([[1], [0], [0]])\n",
    "v2 = np.array([[0], [1], [0]])\n",
    "v3 = np.array([[0], [0], [1]])\n",
    "\n",
    "# transformed vectors\n",
    "tv1 = np.array([[1], [3], [-4]])\n",
    "tv2 = np.array([[2], [-1], [-3]])\n",
    "tv3 = np.array([[4], [5], [-11]])\n",
    "\n",
    "# transformation matrix T\n",
    "T = np.hstack((tv1, tv2, tv3))\n",
    "\n",
    "tv1, tv2, tv3, T"
   ]
  },
  {
   "cell_type": "code",
   "execution_count": 12,
   "metadata": {},
   "outputs": [
    {
     "data": {
      "text/plain": [
       "2"
      ]
     },
     "execution_count": 12,
     "metadata": {},
     "output_type": "execute_result"
    }
   ],
   "source": [
    "### Q1: find rank\n",
    "\n",
    "T_matrix = np.array([\n",
    "    [1, 2, 4],\n",
    "    [3, -1, 5],\n",
    "    [-4, -3, -11]\n",
    "])\n",
    "\n",
    "rank_T = np.linalg.matrix_rank(T_matrix)\n",
    "\n",
    "rank_T"
   ]
  },
  {
   "cell_type": "code",
   "execution_count": 15,
   "metadata": {},
   "outputs": [
    {
     "name": "stdout",
     "output_type": "stream",
     "text": [
      "Product of M and N:\n",
      "[[ 3 17 12]\n",
      " [ 4  3  9]\n",
      " [ 7 20 21]]\n",
      "\n",
      "Determinant of the product matrix (det(M * N)): 0.0\n"
     ]
    }
   ],
   "source": [
    "### Q3: determinant M x N\n",
    "\n",
    "M = np.array([  \n",
    "                [1, 0, 1],\n",
    "                [0, 1, 0],\n",
    "                [1, 1, 1]\n",
    "            ])\n",
    "\n",
    "N = np.array([\n",
    "                [2, 8, 7],\n",
    "                [4, 3, 9],\n",
    "                [1, 9, 5]\n",
    "            ])\n",
    "\n",
    "M_times_N = M @ N\n",
    "\n",
    "det_M_times_N = np.linalg.det(M_times_N)\n",
    "\n",
    "print(\"Product of M and N:\")\n",
    "print(M_times_N)\n",
    "print(\"\\nDeterminant of the product matrix (det(M * N)):\", det_M_times_N)\n"
   ]
  },
  {
   "cell_type": "code",
   "execution_count": 17,
   "metadata": {},
   "outputs": [
    {
     "data": {
      "text/plain": [
       "(True, 3)"
      ]
     },
     "execution_count": 17,
     "metadata": {},
     "output_type": "execute_result"
    }
   ],
   "source": [
    "### Q4:\n",
    "\n",
    "vectors = np.array([\n",
    "            [2, 1, 1], \n",
    "            [1, 0, 0], \n",
    "            [1, 2, 1]\n",
    "        ])\n",
    "\n",
    "check_span_3D = np.linalg.matrix_rank(vectors) == 3\n",
    "\n",
    "check_span_3D, np.linalg.matrix_rank(vectors)"
   ]
  },
  {
   "cell_type": "code",
   "execution_count": 3,
   "metadata": {},
   "outputs": [
    {
     "data": {
      "text/plain": [
       "({'set1': -19.000000000000004,\n",
       "  'set2': -1.0,\n",
       "  'set3': -16.000000000000007,\n",
       "  'set4': -2.0,\n",
       "  'set5': 0.0},\n",
       " {'set1': 'Yes', 'set2': 'Yes', 'set3': 'Yes', 'set4': 'Yes', 'set5': 'No'})"
      ]
     },
     "execution_count": 3,
     "metadata": {},
     "output_type": "execute_result"
    }
   ],
   "source": [
    "### Q5: basis for the 3D space\n",
    "\n",
    "sets_of_vectors = {\n",
    "    'set1': np.array([[2, 0, -1], [3, -1, 1], [1, 2, 4]]),\n",
    "    'set2': np.array([[1, 0, 1], [0, 1, 0], [1, 0, 0]]),\n",
    "    'set3': np.array([[2, 0, 0], [3, 2.5, 5.5], [1, 3.5, 4.5]]),\n",
    "    'set4': np.array([[-1, 1, 1], [2, 2, 0], [1, 2, 1]]),\n",
    "    'set5': np.array([[-1, 1, 1], [2, 2, 6], [1, 2, 5]])\n",
    "}\n",
    "\n",
    "determinants = {}\n",
    "for key, value in sets_of_vectors.items():\n",
    "    det = np.linalg.det(value)\n",
    "    determinants[key] = det\n",
    "\n",
    "bases_for_3D = {}\n",
    "for key, det in determinants.items():\n",
    "    if np.abs(det) > 1e-10:\n",
    "        bases_for_3D[key] = 'Yes'\n",
    "    else:\n",
    "        bases_for_3D[key] = 'No'\n",
    "\n",
    "determinants, bases_for_3D"
   ]
  },
  {
   "cell_type": "code",
   "execution_count": 20,
   "metadata": {},
   "outputs": [
    {
     "data": {
      "text/latex": [
       "$\\displaystyle \\lambda^{2} - 8 \\lambda + 15$"
      ],
      "text/plain": [
       "lambda**2 - 8*lambda + 15"
      ]
     },
     "execution_count": 20,
     "metadata": {},
     "output_type": "execute_result"
    }
   ],
   "source": [
    "### Q6: chacacteristic polynomial (dikurang mean->(lamda-lamda1)(lamda-lamda2))\n",
    "\n",
    "matrix_M = sp.Matrix([\n",
    "                        [2, 1], \n",
    "                        [-3, 6]\n",
    "                    ])\n",
    "\n",
    "lambda_symbol = sp.symbols('lambda')\n",
    "char_poly = matrix_M.charpoly(lambda_symbol).as_expr()\n",
    "\n",
    "char_poly"
   ]
  },
  {
   "cell_type": "code",
   "execution_count": 22,
   "metadata": {},
   "outputs": [
    {
     "data": {
      "text/plain": [
       "array([[ 2.,  6.],\n",
       "       [ 6., 18.]])"
      ]
     },
     "execution_count": 22,
     "metadata": {},
     "output_type": "execute_result"
    }
   ],
   "source": [
    "### Q7: find covariance matrix\n",
    "\n",
    "M = np.array([\n",
    "    [3, 2],\n",
    "    [5, 8]\n",
    "])\n",
    "\n",
    "# 1. centralize matrix\n",
    "M_centralized = M - M.mean(axis=0)\n",
    "\n",
    "# 2. covariance matrix (1/(n-1)) * (X^T * X)\n",
    "n = M.shape[0]\n",
    "covariance_matrix = (1 / (n - 1)) * M_centralized.T.dot(M_centralized)\n",
    "\n",
    "covariance_matrix"
   ]
  },
  {
   "cell_type": "code",
   "execution_count": 23,
   "metadata": {},
   "outputs": [
    {
     "data": {
      "text/plain": [
       "(array([1., 3.]),\n",
       " {1.0: array([0., 1.]), 3.0: array([ 0.70710678, -0.70710678])})"
      ]
     },
     "execution_count": 23,
     "metadata": {},
     "output_type": "execute_result"
    }
   ],
   "source": [
    "### Q8: eigenvectors of this matrix\n",
    "\n",
    "M = np.array([\n",
    "                [3, 0], \n",
    "                [-2, 1]\n",
    "            ])\n",
    "\n",
    "eigenvector_dict = {}\n",
    "eigenvalues, eigenvectors = np.linalg.eig(M)\n",
    "\n",
    "for i in range(len(eigenvalues)):\n",
    "    eigenvector_dict[eigenvalues[i]] = eigenvectors[:, i]\n",
    "\n",
    "eigenvalues, eigenvector_dict"
   ]
  },
  {
   "cell_type": "code",
   "execution_count": 24,
   "metadata": {},
   "outputs": [
    {
     "data": {
      "text/plain": [
       "(array([[-20.,  -1.,   0.],\n",
       "        [ 20.,   1.,   0.]]),\n",
       " array([802.,   0.,   0.]))"
      ]
     },
     "execution_count": 24,
     "metadata": {},
     "output_type": "execute_result"
    }
   ],
   "source": [
    "### Q9 dan Q10: eigenvalues and covariance matrix\n",
    "\n",
    "X = np.array([\n",
    "    [70, 2, 2],\n",
    "    [110, 4, 2]\n",
    "])\n",
    "\n",
    "# mean\n",
    "mu = X.mean(axis=0)\n",
    "\n",
    "# 1. centralize matrix\n",
    "X_mu = X - mu\n",
    "\n",
    "# 2. covariance matrix\n",
    "n = X.shape[0]\n",
    "covariance_matrix = (1 / (n - 1)) * np.dot(X_mu.T, X_mu)\n",
    "\n",
    "# eigenvalues\n",
    "eigenvalues = np.linalg.eigvals(covariance_matrix)\n",
    "\n",
    "X_mu, eigenvalues"
   ]
  }
 ],
 "metadata": {
  "kernelspec": {
   "display_name": "bangkit",
   "language": "python",
   "name": "python3"
  },
  "language_info": {
   "codemirror_mode": {
    "name": "ipython",
    "version": 3
   },
   "file_extension": ".py",
   "mimetype": "text/x-python",
   "name": "python",
   "nbconvert_exporter": "python",
   "pygments_lexer": "ipython3",
   "version": "3.10.13"
  }
 },
 "nbformat": 4,
 "nbformat_minor": 2
}
