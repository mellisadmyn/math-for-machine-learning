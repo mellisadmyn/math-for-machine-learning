{
 "cells": [
  {
   "cell_type": "code",
   "execution_count": 1,
   "metadata": {},
   "outputs": [],
   "source": [
    "import numpy as np"
   ]
  },
  {
   "cell_type": "code",
   "execution_count": 24,
   "metadata": {},
   "outputs": [
    {
     "name": "stdout",
     "output_type": "stream",
     "text": [
      "Distance between v and w: 5.196152422706632  akar:  27.0\n"
     ]
    }
   ],
   "source": [
    "### Q1\n",
    "\n",
    "u = np.array([\n",
    "        [1], \n",
    "        [0], \n",
    "        [7]\n",
    "    ])\n",
    "\n",
    "w = np.array([\n",
    "        [0],\n",
    "        [-1], \n",
    "        [2]\n",
    "    ])\n",
    "\n",
    "diff = []\n",
    "d2 = 0.0\n",
    "\n",
    "for i in range(len(u)):\n",
    "    diff.append(u[i] - w[i])\n",
    "for i in range(len(u)):\n",
    "    d2 += diff[i] * diff[i]\n",
    "d = np.sqrt(d2)\n",
    "\n",
    "print(\"Distance between v and w:\", d[0], \" akar: \", d2[0])"
   ]
  },
  {
   "cell_type": "code",
   "execution_count": 18,
   "metadata": {},
   "outputs": [
    {
     "name": "stdout",
     "output_type": "stream",
     "text": [
      "2.0\n"
     ]
    }
   ],
   "source": [
    "### Q2\n",
    "\n",
    "p = np.array([1, 0, -3])\n",
    "\n",
    "q = np.array([-1, 0, -3])\n",
    "\n",
    "magnitude = np.linalg.norm(p - q, ord=2)\n",
    "print(magnitude)"
   ]
  },
  {
   "cell_type": "code",
   "execution_count": 17,
   "metadata": {},
   "outputs": [
    {
     "name": "stdout",
     "output_type": "stream",
     "text": [
      "Distance between v and w: 6.244997998398398  akar: 39\n"
     ]
    }
   ],
   "source": [
    "### Q4\n",
    "\n",
    "u = np.array([1, -5, 2, 0, -3])\n",
    "\n",
    "norm2 = 1**2 + (5**2) + 2**2 + 0**2 + (3**2)\n",
    "norm = np.sqrt(norm2)\n",
    "norm = np.linalg.norm(u, ord=2)\n",
    "\n",
    "print(\"Distance between v and w:\", norm, \" akar:\", norm2)"
   ]
  },
  {
   "cell_type": "code",
   "execution_count": 7,
   "metadata": {},
   "outputs": [
    {
     "name": "stdout",
     "output_type": "stream",
     "text": [
      "[0.0, 3.7416573867739413, 3.4641016151377544, 2.449489742783178, 5.385164807134504]\n"
     ]
    }
   ],
   "source": [
    "### Q5\n",
    "\n",
    "vectors = [\n",
    "    np.array([0, 0, 0]),\n",
    "    np.array([1, 2, -3]),\n",
    "    np.array([2, 2, 2]),\n",
    "    np.array([1, 0, -2, 0, -1]),\n",
    "    np.array([2, 5])\n",
    "]\n",
    "\n",
    "norms = [np.linalg.norm(v) for v in vectors]\n",
    "\n",
    "print(norms) "
   ]
  },
  {
   "cell_type": "code",
   "execution_count": 16,
   "metadata": {},
   "outputs": [
    {
     "data": {
      "text/plain": [
       "15"
      ]
     },
     "execution_count": 16,
     "metadata": {},
     "output_type": "execute_result"
    }
   ],
   "source": [
    "### Q6\n",
    "\n",
    "a = np.array([3, 7, 1])\n",
    "b = np.array([4, 0, 3])\n",
    "\n",
    "dot_product = np.dot(a, b)\n",
    "dot_product\n"
   ]
  },
  {
   "cell_type": "code",
   "execution_count": 25,
   "metadata": {},
   "outputs": [
    {
     "name": "stdout",
     "output_type": "stream",
     "text": [
      "[[10 -5]\n",
      " [15 -9]]\n"
     ]
    }
   ],
   "source": [
    "### Q7\n",
    "\n",
    "m1 = np.array([\n",
    "        [2, -1],\n",
    "        [3, -3],\n",
    "    ])\n",
    "\n",
    "m2 = np.array([\n",
    "        [5, -2],\n",
    "        [0, 1],\n",
    "    ])\n",
    "\n",
    "print(m1 @ m2)"
   ]
  },
  {
   "cell_type": "code",
   "execution_count": 27,
   "metadata": {},
   "outputs": [
    {
     "name": "stdout",
     "output_type": "stream",
     "text": [
      "32.0\n"
     ]
    }
   ],
   "source": [
    "### Q8\n",
    "\n",
    "w = np.array([\n",
    "        [-9],\n",
    "        [-1],\n",
    "    ])\n",
    "\n",
    "z = np.array([\n",
    "        [-3],\n",
    "        [-5],\n",
    "    ])\n",
    "\n",
    "w = w.T\n",
    "dot_wz = 0.0\n",
    "\n",
    "for i in range(len(z)):\n",
    "    dot_wz += w[0, i] * z[i, 0]\n",
    "print(dot_wz)"
   ]
  }
 ],
 "metadata": {
  "kernelspec": {
   "display_name": "bangkit",
   "language": "python",
   "name": "python3"
  },
  "language_info": {
   "codemirror_mode": {
    "name": "ipython",
    "version": 3
   },
   "file_extension": ".py",
   "mimetype": "text/x-python",
   "name": "python",
   "nbconvert_exporter": "python",
   "pygments_lexer": "ipython3",
   "version": "3.10.13"
  }
 },
 "nbformat": 4,
 "nbformat_minor": 2
}
